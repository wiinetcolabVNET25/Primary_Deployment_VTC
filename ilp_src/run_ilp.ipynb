{
 "cells": [
  {
   "cell_type": "markdown",
   "metadata": {},
   "source": [
    "#### Integer Linear Program Solve\n",
    "\n",
    "Only run the four cells below if you are going to compute the solution manually"
   ]
  },
  {
   "cell_type": "code",
   "execution_count": null,
   "metadata": {
    "colab": {
     "base_uri": "https://localhost:8080/"
    },
    "executionInfo": {
     "elapsed": 777,
     "status": "ok",
     "timestamp": 1749168451914,
     "user": {
      "displayName": "Fernanda Souza",
      "userId": "16170366526400394041"
     },
     "user_tz": 180
    },
    "id": "XfCmanpSZQCb",
    "outputId": "c58ccdda-cd9a-4c2a-afb1-e61ddf763ba0"
   },
   "outputs": [
    {
     "name": "stdout",
     "output_type": "stream",
     "text": [
      "[[(60, 50), (60, 49), (60, 48)], [(42, 55), (42, 56)]]\n"
     ]
    }
   ],
   "source": [
    "# vehicle_list = []\n",
    "\n",
    "# with open('cells_per_vehicle.csv', 'r') as f:\n",
    "#     for line in f:\n",
    "#         line = line.strip()\n",
    "#         if line:\n",
    "#             cells = line.split(';')\n",
    "#             tuples = [tuple(map(int, q.split('_'))) for q in cells]\n",
    "#             vehicle_list.append(tuples)\n",
    "\n",
    "# print(vehicle_list[:2])"
   ]
  },
  {
   "cell_type": "code",
   "execution_count": null,
   "metadata": {
    "colab": {
     "base_uri": "https://localhost:8080/"
    },
    "executionInfo": {
     "elapsed": 161,
     "status": "ok",
     "timestamp": 1749168453420,
     "user": {
      "displayName": "Fernanda Souza",
      "userId": "16170366526400394041"
     },
     "user_tz": 180
    },
    "id": "2T086Be6amIg",
    "outputId": "77774fa8-ee4f-477f-b241-178ffa85252f"
   },
   "outputs": [
    {
     "name": "stdout",
     "output_type": "stream",
     "text": [
      "Total of unique cells used:  3299\n",
      "Total of vehicles:  75516\n"
     ]
    }
   ],
   "source": [
    "# unique_cells = set(q for sublista in vehicle_list for q in sublista)\n",
    "\n",
    "# unique_cells_list = sorted(list(unique_cells))\n",
    "\n",
    "# veiculos = list(range(len(vehicle_list)))\n",
    "\n",
    "# print(\"Total of unique cells used: \", len(unique_cells_list))\n",
    "# print(\"Total of vehicles: \", len(vehicle_list))"
   ]
  },
  {
   "cell_type": "code",
   "execution_count": null,
   "metadata": {},
   "outputs": [
    {
     "name": "stdout",
     "output_type": "stream",
     "text": [
      "[+] Num rsus: 42\n",
      "\tObj: 8392.0\n",
      "\ttime: 271.2735638618469\n",
      "[+] Num rsus: 211\n",
      "\tObj: 29448.0\n",
      "\ttime: 829.1573660373688\n",
      "[+] Num rsus: 422\n",
      "\tObj: 46004.0\n",
      "\ttime: 1554.4148948192596\n",
      "[+] Num rsus: 633\n",
      "\tObj: 56867.0\n",
      "\ttime: 1008.1062943935394\n",
      "[+] Num rsus: 845\n",
      "\tObj: 64169.0\n",
      "\ttime: 1009.8242611885071\n",
      "[+] Num rsus: 1056\n",
      "\tObj: 68958.0\n",
      "\ttime: 499.5799660682678\n",
      "[+] Num rsus: 1267\n",
      "\tObj: 72029.0\n",
      "\ttime: 380.23237133026123\n",
      "[+] Num rsus: 1478\n",
      "\tObj: 73896.0\n",
      "\ttime: 280.6471266746521\n",
      "[+] Num rsus: 1690\n",
      "\tObj: 74945.0\n",
      "\ttime: 191.14314675331116\n",
      "[+] Num rsus: 1901\n",
      "\tObj: 75386.0\n",
      "\ttime: 185.60769319534302\n",
      "[+] Num rsus: 2112\n",
      "\tObj: 75516.0\n",
      "\ttime: 172.5554449558258\n"
     ]
    }
   ],
   "source": [
    "# from mip import *\n",
    "\n",
    "# EPS = 1e-6\n",
    "\n",
    "# #########################\n",
    "# # Modelagem do problema #\n",
    "# #########################\n",
    "\n",
    "# import time\n",
    "\n",
    "# total_cells = 4225\n",
    "# time_ilp = {}\n",
    "# obj_ilp = {}\n",
    "# for p in [0.01, 0.05, 0.10, 0.15, 0.20, 0.25, 0.30, 0.35, 0.40, 0.45, 0.5]:\n",
    "\n",
    "#     num_rsus = int(total_cells * p)\n",
    "\n",
    "#     # Model\n",
    "#     model = Model(\"Primary Deployment\", solver_name=CBC, sense=MAXIMIZE)\n",
    "    \n",
    "#     # Variables\n",
    "#     a = { (i,j) : model.add_var(var_type=BINARY, name='x_{i}_{j}'.format(**locals())) for (i,j) in unique_cells_list }\n",
    "#     v = { k : model.add_var(var_type=BINARY, name='v_{k}'.format(**locals())) for k in veiculos }\n",
    "    \n",
    "#     # Objective function: maximize coverage\n",
    "#     model += xsum( v[k] for k in veiculos )\n",
    "    \n",
    "#     # Coverage restriction per vehicle\n",
    "#     for k in range(len(veiculos)):\n",
    "#       model += xsum( a[i,j] for (i,j) in vehicle_list[k] ) >= v[k], \"coverage\"\n",
    "    \n",
    "#     # Rho budget restriction\n",
    "#     model += xsum( a[i,j] for (i,j) in unique_cells_list) <= num_rsus, \"budget\"\n",
    "    \n",
    "#     model.verbose = 0\n",
    "\n",
    "#     start = time.time()\n",
    "    \n",
    "#     # Solve\n",
    "#     model.optimize(max_seconds=3600)\n",
    "    \n",
    "#     print(f\"[+] Num rsus: {num_rsus}\")\n",
    "#     print(f\"\\tObj: {model.objective_value}\")\n",
    "#     print(f\"\\ttime: {time.time() - start}\")\n",
    "\n",
    "#     time_ilp[num_rsus] = time.time() - start\n",
    "#     obj_ilp[num_rsus] = model.objective_value\n",
    " \n",
    "#     rsus = []\n",
    "#     for v in model.vars:\n",
    "#         if v.name[0] == \"x\" and abs(v.x) > 1e-6:\n",
    "#             rsus.append(tuple(map(int, v.name[2:].split('_'))))\n",
    "\n",
    "#     with open(f\"ILP_rho_{p:.2f}_obj_{int(model.objective_value)}_sol.csv\", \"w\") as f:\n",
    "#         for r in rsus:\n",
    "#             f.write(f\"{r[0]},{r[1]}\\n\")"
   ]
  },
  {
   "cell_type": "markdown",
   "metadata": {},
   "source": [
    "#### Save results"
   ]
  },
  {
   "cell_type": "code",
   "execution_count": 1,
   "metadata": {},
   "outputs": [],
   "source": [
    "# import pickle\n",
    "# with open(\"obj_ilp.pkl\", \"wb\") as file:\n",
    "#     pickle.dump(obj_ilp, file)\n",
    "# with open(\"time_ilp.pkl\", \"wb\") as file:\n",
    "#     pickle.dump(time_ilp, file)"
   ]
  }
 ],
 "metadata": {
  "colab": {
   "authorship_tag": "ABX9TyN2pdIJ483bh6TMiklLGKxs",
   "provenance": []
  },
  "kernelspec": {
   "display_name": "Python 3",
   "language": "python",
   "name": "python3"
  },
  "language_info": {
   "codemirror_mode": {
    "name": "ipython",
    "version": 3
   },
   "file_extension": ".py",
   "mimetype": "text/x-python",
   "name": "python",
   "nbconvert_exporter": "python",
   "pygments_lexer": "ipython3",
   "version": "3.10.12"
  }
 },
 "nbformat": 4,
 "nbformat_minor": 4
}
